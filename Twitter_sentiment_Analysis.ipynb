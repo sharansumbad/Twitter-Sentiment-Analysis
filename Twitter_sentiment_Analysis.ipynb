{
  "nbformat": 4,
  "nbformat_minor": 0,
  "metadata": {
    "colab": {
      "name": "Twitter_sentiment_Analysis.ipynb",
      "provenance": [],
      "authorship_tag": "ABX9TyPK6WUn1HBZ86vyss7RDbNY",
      "include_colab_link": true
    },
    "kernelspec": {
      "name": "python3",
      "display_name": "Python 3"
    },
    "language_info": {
      "name": "python"
    }
  },
  "cells": [
    {
      "cell_type": "markdown",
      "metadata": {
        "id": "view-in-github",
        "colab_type": "text"
      },
      "source": [
        "<a href=\"https://colab.research.google.com/github/sharansumbad/Twitter-Sentiment-Analysis/blob/main/Twitter_sentiment_Analysis.ipynb\" target=\"_parent\"><img src=\"https://colab.research.google.com/assets/colab-badge.svg\" alt=\"Open In Colab\"/></a>"
      ]
    },
    {
      "cell_type": "code",
      "metadata": {
        "id": "ZPTZMxYt4NiX"
      },
      "source": [
        "#Import the libraries\n",
        "\n",
        "import tweepy\n",
        "from textblob import TextBlob\n",
        "from wordcloud import WordCloud\n",
        "import pandas as pd\n",
        "import numpy as np\n",
        "import re\n",
        "import  matplotlib.pyplot as plt\n",
        "plt.style.use('fivethirtyeight')"
      ],
      "execution_count": null,
      "outputs": []
    },
    {
      "cell_type": "code",
      "metadata": {
        "colab": {
          "resources": {
            "http://localhost:8080/nbextensions/google.colab/files.js": {
              "data": "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",
              "ok": true,
              "headers": [
                [
                  "content-type",
                  "application/javascript"
                ]
              ],
              "status": 200,
              "status_text": ""
            }
          },
          "base_uri": "https://localhost:8080/",
          "height": 72
        },
        "id": "UXjTwAlu1Z1v",
        "outputId": "8f9c9c0e-e924-408f-8a36-c1aa870cb2f3"
      },
      "source": [
        "# Load the data\n",
        "from google.colab import files\n",
        "uploaded = files.upload()"
      ],
      "execution_count": null,
      "outputs": [
        {
          "output_type": "display_data",
          "data": {
            "text/html": [
              "\n",
              "     <input type=\"file\" id=\"files-516b53a9-12da-474f-84a6-b1c970d9a542\" name=\"files[]\" multiple disabled\n",
              "        style=\"border:none\" />\n",
              "     <output id=\"result-516b53a9-12da-474f-84a6-b1c970d9a542\">\n",
              "      Upload widget is only available when the cell has been executed in the\n",
              "      current browser session. Please rerun this cell to enable.\n",
              "      </output>\n",
              "      <script src=\"/nbextensions/google.colab/files.js\"></script> "
            ],
            "text/plain": [
              "<IPython.core.display.HTML object>"
            ]
          },
          "metadata": {
            "tags": []
          }
        },
        {
          "output_type": "stream",
          "text": [
            "Saving Log.csv to Log (1).csv\n"
          ],
          "name": "stdout"
        }
      ]
    },
    {
      "cell_type": "code",
      "metadata": {
        "id": "1SF1RD1K1rmS"
      },
      "source": [
        "log = pd.read_csv('Log.csv') "
      ],
      "execution_count": null,
      "outputs": []
    },
    {
      "cell_type": "code",
      "metadata": {
        "id": "C5dViYZm2A0F"
      },
      "source": [
        "#log"
      ],
      "execution_count": null,
      "outputs": []
    },
    {
      "cell_type": "code",
      "metadata": {
        "id": "gaurVeX75fIr"
      },
      "source": [
        "# Twitter API Credentials\n",
        "\n",
        "consumerKey = log['Key'][0]\n",
        "consumerSecret = log['Key'][1]\n",
        "accessToken = log['Key'][2]\n",
        "acessTokenSecret = log['Key'][3]"
      ],
      "execution_count": null,
      "outputs": []
    },
    {
      "cell_type": "code",
      "metadata": {
        "id": "bjw9-Z7F2hco"
      },
      "source": [
        "# Create the authentication object \n",
        "authenticate = tweepy.OAuthHandler(consumerKey, consumerSecret)\n",
        "\n",
        "# Set the access token and scess token secret\n",
        "authenticate.set_access_token(accessToken, acessTokenSecret)\n",
        "\n",
        "# Create the APi object while passing in the auth information\n",
        "api = tweepy.API(authenticate , wait_on_rate_limit = True)"
      ],
      "execution_count": null,
      "outputs": []
    },
    {
      "cell_type": "code",
      "metadata": {
        "colab": {
          "base_uri": "https://localhost:8080/"
        },
        "id": "pqq7cPK-4mJ3",
        "outputId": "d3e0949b-3728-4c97-e99f-fd5879119eb4"
      },
      "source": [
        "# Exttract 100 tweets from the wtitter user\n",
        "posts = api.user_timeline(screen_name = \"SadhguruJV\" , count = 100 , lang = \"en\", tweet_mode = \"extended\")\n",
        "\n",
        "# print the last 5 tweets from the account\n",
        "print(\"show the 5 recent tweets: |n\")\n",
        "i = 1\n",
        "for tweet in posts[0:5]:\n",
        "  print(str(i) + ')'+ tweet.full_text + '\\n')\n",
        "  i += 1"
      ],
      "execution_count": null,
      "outputs": [
        {
          "output_type": "stream",
          "text": [
            "show the 5 recent tweets: |n\n",
            "1)The Nation hangs its head in shame for what #Parliament has descended to. Our hard-won Independence means little without Responsibility. Bharat’s wellbeing must override all other considerations. –Sg\n",
            "\n",
            "2)If you are not an issue, handling outside issues will not be a problem. #SadhguruQuotes https://t.co/ZqC1RfVCe9\n",
            "\n",
            "3)With precise Region-wise data of #ClimateChange impact, it is now possible for every Nation to legislate appropriately &amp; mitigate impact. May decision-makers show resoluteness, commitment &amp; Urgency in making this happen. –Sg @IPCC_CH @UN_SDG @UNEP #ConsciousPlanet\n",
            "\n",
            "4)We must skill the Youth of the World to handle their body, mind, emotions &amp; energies. With this one skill- whatever their activity- they will enhance their own Life &amp; all Life around them. Without this skill, every other skill will be wasted. –Sg #InternationalYouthDay\n",
            "\n",
            "5)Only when your experience of life moves beyond sense perception, it becomes absolute, not relative. #SadhguruQuotes https://t.co/QC9f7MWBwh\n",
            "\n"
          ],
          "name": "stdout"
        }
      ]
    },
    {
      "cell_type": "code",
      "metadata": {
        "colab": {
          "base_uri": "https://localhost:8080/",
          "height": 359
        },
        "id": "lOinpCmm6V9W",
        "outputId": "492fb7aa-8933-4cbc-a741-e6cec94e8d7d"
      },
      "source": [
        " # create a dataframe with a column called Tweets\n",
        " df = pd.DataFrame([tweet.full_text for tweet in posts], columns = ['Tweets'])\n",
        "\n",
        "#Show the first 10 rowa\n",
        " df.head(10)"
      ],
      "execution_count": null,
      "outputs": [
        {
          "output_type": "execute_result",
          "data": {
            "text/html": [
              "<div>\n",
              "<style scoped>\n",
              "    .dataframe tbody tr th:only-of-type {\n",
              "        vertical-align: middle;\n",
              "    }\n",
              "\n",
              "    .dataframe tbody tr th {\n",
              "        vertical-align: top;\n",
              "    }\n",
              "\n",
              "    .dataframe thead th {\n",
              "        text-align: right;\n",
              "    }\n",
              "</style>\n",
              "<table border=\"1\" class=\"dataframe\">\n",
              "  <thead>\n",
              "    <tr style=\"text-align: right;\">\n",
              "      <th></th>\n",
              "      <th>Tweets</th>\n",
              "    </tr>\n",
              "  </thead>\n",
              "  <tbody>\n",
              "    <tr>\n",
              "      <th>0</th>\n",
              "      <td>The Nation hangs its head in shame for what #P...</td>\n",
              "    </tr>\n",
              "    <tr>\n",
              "      <th>1</th>\n",
              "      <td>If you are not an issue, handling outside issu...</td>\n",
              "    </tr>\n",
              "    <tr>\n",
              "      <th>2</th>\n",
              "      <td>With precise Region-wise data of #ClimateChang...</td>\n",
              "    </tr>\n",
              "    <tr>\n",
              "      <th>3</th>\n",
              "      <td>We must skill the Youth of the World to handle...</td>\n",
              "    </tr>\n",
              "    <tr>\n",
              "      <th>4</th>\n",
              "      <td>Only when your experience of life moves beyond...</td>\n",
              "    </tr>\n",
              "    <tr>\n",
              "      <th>5</th>\n",
              "      <td>Every Nation must prioritize #ClimateAction in...</td>\n",
              "    </tr>\n",
              "    <tr>\n",
              "      <th>6</th>\n",
              "      <td>Human beings become who they are not necessari...</td>\n",
              "    </tr>\n",
              "    <tr>\n",
              "      <th>7</th>\n",
              "      <td>This is a tremendous opportunity for Humanity ...</td>\n",
              "    </tr>\n",
              "    <tr>\n",
              "      <th>8</th>\n",
              "      <td>Humanity is running out of time. Decisive &amp;amp...</td>\n",
              "    </tr>\n",
              "    <tr>\n",
              "      <th>9</th>\n",
              "      <td>The word Yoga means Union- if you are willing ...</td>\n",
              "    </tr>\n",
              "  </tbody>\n",
              "</table>\n",
              "</div>"
            ],
            "text/plain": [
              "                                              Tweets\n",
              "0  The Nation hangs its head in shame for what #P...\n",
              "1  If you are not an issue, handling outside issu...\n",
              "2  With precise Region-wise data of #ClimateChang...\n",
              "3  We must skill the Youth of the World to handle...\n",
              "4  Only when your experience of life moves beyond...\n",
              "5  Every Nation must prioritize #ClimateAction in...\n",
              "6  Human beings become who they are not necessari...\n",
              "7  This is a tremendous opportunity for Humanity ...\n",
              "8  Humanity is running out of time. Decisive &amp...\n",
              "9  The word Yoga means Union- if you are willing ..."
            ]
          },
          "metadata": {
            "tags": []
          },
          "execution_count": 58
        }
      ]
    },
    {
      "cell_type": "code",
      "metadata": {
        "id": "DpCDP8N47-1w"
      },
      "source": [
        "# clean the test\n",
        "\n",
        "#clean a function to clean the tweets\n",
        "def cleantxt(text):\n",
        "  text = re.sub(r'@[A-Za-z0-9]+', '' , text ) # remove @mentions\n",
        "  text = re.sub(r'#', '' , text) #Removing the '#' symbol\n",
        "  text = re.sub(r'RT[\\s] +', '', text) # remove RT\n",
        "  text = re.sub(r'https?:\\/\\/\\s+', '' , text) # remove the hyper link\n",
        "\n",
        "  return text"
      ],
      "execution_count": null,
      "outputs": []
    },
    {
      "cell_type": "markdown",
      "metadata": {
        "id": "z3lGrSuuqTOY"
      },
      "source": [
        ""
      ]
    },
    {
      "cell_type": "code",
      "metadata": {
        "colab": {
          "base_uri": "https://localhost:8080/",
          "height": 419
        },
        "id": "B5tLmPqKWrto",
        "outputId": "568d1d86-b50d-4af5-b98c-911f034f9d87"
      },
      "source": [
        "# Cleaning the text\n",
        "\n",
        "df['Tweets'] = df['Tweets'].apply(cleantxt)\n",
        "\n",
        "df"
      ],
      "execution_count": null,
      "outputs": [
        {
          "output_type": "execute_result",
          "data": {
            "text/html": [
              "<div>\n",
              "<style scoped>\n",
              "    .dataframe tbody tr th:only-of-type {\n",
              "        vertical-align: middle;\n",
              "    }\n",
              "\n",
              "    .dataframe tbody tr th {\n",
              "        vertical-align: top;\n",
              "    }\n",
              "\n",
              "    .dataframe thead th {\n",
              "        text-align: right;\n",
              "    }\n",
              "</style>\n",
              "<table border=\"1\" class=\"dataframe\">\n",
              "  <thead>\n",
              "    <tr style=\"text-align: right;\">\n",
              "      <th></th>\n",
              "      <th>Tweets</th>\n",
              "    </tr>\n",
              "  </thead>\n",
              "  <tbody>\n",
              "    <tr>\n",
              "      <th>0</th>\n",
              "      <td>The Nation hangs its head in shame for what Pa...</td>\n",
              "    </tr>\n",
              "    <tr>\n",
              "      <th>1</th>\n",
              "      <td>If you are not an issue, handling outside issu...</td>\n",
              "    </tr>\n",
              "    <tr>\n",
              "      <th>2</th>\n",
              "      <td>With precise Region-wise data of ClimateChange...</td>\n",
              "    </tr>\n",
              "    <tr>\n",
              "      <th>3</th>\n",
              "      <td>We must skill the Youth of the World to handle...</td>\n",
              "    </tr>\n",
              "    <tr>\n",
              "      <th>4</th>\n",
              "      <td>Only when your experience of life moves beyond...</td>\n",
              "    </tr>\n",
              "    <tr>\n",
              "      <th>...</th>\n",
              "      <td>...</td>\n",
              "    </tr>\n",
              "    <tr>\n",
              "      <th>95</th>\n",
              "      <td>As long as there is anger, irritation, hatred,...</td>\n",
              "    </tr>\n",
              "    <tr>\n",
              "      <th>96</th>\n",
              "      <td>My Best Wishes for the Olympics, Pooja. The Na...</td>\n",
              "    </tr>\n",
              "    <tr>\n",
              "      <th>97</th>\n",
              "      <td>Congratulazioni Azzurri! The Beautiful Game ce...</td>\n",
              "    </tr>\n",
              "    <tr>\n",
              "      <th>98</th>\n",
              "      <td>DailyWisdom Life https://t.co/fRoAeiHtf3</td>\n",
              "    </tr>\n",
              "    <tr>\n",
              "      <th>99</th>\n",
              "      <td>Wisdom is a combination of our own realization...</td>\n",
              "    </tr>\n",
              "  </tbody>\n",
              "</table>\n",
              "<p>100 rows × 1 columns</p>\n",
              "</div>"
            ],
            "text/plain": [
              "                                               Tweets\n",
              "0   The Nation hangs its head in shame for what Pa...\n",
              "1   If you are not an issue, handling outside issu...\n",
              "2   With precise Region-wise data of ClimateChange...\n",
              "3   We must skill the Youth of the World to handle...\n",
              "4   Only when your experience of life moves beyond...\n",
              "..                                                ...\n",
              "95  As long as there is anger, irritation, hatred,...\n",
              "96  My Best Wishes for the Olympics, Pooja. The Na...\n",
              "97  Congratulazioni Azzurri! The Beautiful Game ce...\n",
              "98           DailyWisdom Life https://t.co/fRoAeiHtf3\n",
              "99  Wisdom is a combination of our own realization...\n",
              "\n",
              "[100 rows x 1 columns]"
            ]
          },
          "metadata": {
            "tags": []
          },
          "execution_count": 60
        }
      ]
    },
    {
      "cell_type": "code",
      "metadata": {
        "colab": {
          "base_uri": "https://localhost:8080/",
          "height": 419
        },
        "id": "nzaybFq0feAL",
        "outputId": "776e75bd-aba7-45bd-f632-065cc414e376"
      },
      "source": [
        "# Create a function to get the subjectivity\n",
        "\n",
        "def getSubjectivity(text):\n",
        "  return TextBlob(text).sentiment.subjectivity\n",
        "\n",
        "# Create a functionn to grt the polarity\n",
        "\n",
        "def getPolarity(text):\n",
        "  return TextBlob(text).sentiment.polarity\n",
        "\n",
        "# Create two new columns\n",
        "df['Subjectivity'] = df['Tweets'].apply(getSubjectivity)\n",
        "df['Polarity'] = df['Tweets'].apply(getPolarity)\n",
        "\n",
        "#Show the new datafarme with the new  columns\n",
        "\n",
        "df"
      ],
      "execution_count": null,
      "outputs": [
        {
          "output_type": "execute_result",
          "data": {
            "text/html": [
              "<div>\n",
              "<style scoped>\n",
              "    .dataframe tbody tr th:only-of-type {\n",
              "        vertical-align: middle;\n",
              "    }\n",
              "\n",
              "    .dataframe tbody tr th {\n",
              "        vertical-align: top;\n",
              "    }\n",
              "\n",
              "    .dataframe thead th {\n",
              "        text-align: right;\n",
              "    }\n",
              "</style>\n",
              "<table border=\"1\" class=\"dataframe\">\n",
              "  <thead>\n",
              "    <tr style=\"text-align: right;\">\n",
              "      <th></th>\n",
              "      <th>Tweets</th>\n",
              "      <th>Subjectivity</th>\n",
              "      <th>Polarity</th>\n",
              "    </tr>\n",
              "  </thead>\n",
              "  <tbody>\n",
              "    <tr>\n",
              "      <th>0</th>\n",
              "      <td>The Nation hangs its head in shame for what Pa...</td>\n",
              "      <td>0.437500</td>\n",
              "      <td>-0.156250</td>\n",
              "    </tr>\n",
              "    <tr>\n",
              "      <th>1</th>\n",
              "      <td>If you are not an issue, handling outside issu...</td>\n",
              "      <td>0.050000</td>\n",
              "      <td>0.000000</td>\n",
              "    </tr>\n",
              "    <tr>\n",
              "      <th>2</th>\n",
              "      <td>With precise Region-wise data of ClimateChange...</td>\n",
              "      <td>0.766667</td>\n",
              "      <td>0.300000</td>\n",
              "    </tr>\n",
              "    <tr>\n",
              "      <th>3</th>\n",
              "      <td>We must skill the Youth of the World to handle...</td>\n",
              "      <td>0.458333</td>\n",
              "      <td>0.091667</td>\n",
              "    </tr>\n",
              "    <tr>\n",
              "      <th>4</th>\n",
              "      <td>Only when your experience of life moves beyond...</td>\n",
              "      <td>0.633333</td>\n",
              "      <td>0.066667</td>\n",
              "    </tr>\n",
              "    <tr>\n",
              "      <th>...</th>\n",
              "      <td>...</td>\n",
              "      <td>...</td>\n",
              "      <td>...</td>\n",
              "    </tr>\n",
              "    <tr>\n",
              "      <th>95</th>\n",
              "      <td>As long as there is anger, irritation, hatred,...</td>\n",
              "      <td>0.366667</td>\n",
              "      <td>-0.183333</td>\n",
              "    </tr>\n",
              "    <tr>\n",
              "      <th>96</th>\n",
              "      <td>My Best Wishes for the Olympics, Pooja. The Na...</td>\n",
              "      <td>0.433333</td>\n",
              "      <td>0.700000</td>\n",
              "    </tr>\n",
              "    <tr>\n",
              "      <th>97</th>\n",
              "      <td>Congratulazioni Azzurri! The Beautiful Game ce...</td>\n",
              "      <td>0.566667</td>\n",
              "      <td>0.483333</td>\n",
              "    </tr>\n",
              "    <tr>\n",
              "      <th>98</th>\n",
              "      <td>DailyWisdom Life https://t.co/fRoAeiHtf3</td>\n",
              "      <td>0.000000</td>\n",
              "      <td>0.000000</td>\n",
              "    </tr>\n",
              "    <tr>\n",
              "      <th>99</th>\n",
              "      <td>Wisdom is a combination of our own realization...</td>\n",
              "      <td>0.666667</td>\n",
              "      <td>0.366667</td>\n",
              "    </tr>\n",
              "  </tbody>\n",
              "</table>\n",
              "<p>100 rows × 3 columns</p>\n",
              "</div>"
            ],
            "text/plain": [
              "                                               Tweets  Subjectivity  Polarity\n",
              "0   The Nation hangs its head in shame for what Pa...      0.437500 -0.156250\n",
              "1   If you are not an issue, handling outside issu...      0.050000  0.000000\n",
              "2   With precise Region-wise data of ClimateChange...      0.766667  0.300000\n",
              "3   We must skill the Youth of the World to handle...      0.458333  0.091667\n",
              "4   Only when your experience of life moves beyond...      0.633333  0.066667\n",
              "..                                                ...           ...       ...\n",
              "95  As long as there is anger, irritation, hatred,...      0.366667 -0.183333\n",
              "96  My Best Wishes for the Olympics, Pooja. The Na...      0.433333  0.700000\n",
              "97  Congratulazioni Azzurri! The Beautiful Game ce...      0.566667  0.483333\n",
              "98           DailyWisdom Life https://t.co/fRoAeiHtf3      0.000000  0.000000\n",
              "99  Wisdom is a combination of our own realization...      0.666667  0.366667\n",
              "\n",
              "[100 rows x 3 columns]"
            ]
          },
          "metadata": {
            "tags": []
          },
          "execution_count": 61
        }
      ]
    },
    {
      "cell_type": "code",
      "metadata": {
        "colab": {
          "base_uri": "https://localhost:8080/",
          "height": 256
        },
        "id": "ZRainjEphMcC",
        "outputId": "e89f5088-9210-4031-d8f8-ebaacc0f80e4"
      },
      "source": [
        "# plot the  Word Cloud \n",
        "allWords = ' '.join([twts for twts in df['Tweets']])\n",
        "wordCloud = WordCloud (width = 500, height = 300 , random_state = 21 , max_font_size = 119).generate(allWords)\n",
        "\n",
        "plt.imshow(wordCloud , Interpolation = \"bilinear\")\n",
        "plt.axis('off')\n",
        "plt.show()"
      ],
      "execution_count": null,
      "outputs": [
        {
          "output_type": "display_data",
          "data": {
            "image/png": "[encoded data removed]",
            "text/plain": [
              "<Figure size 432x288 with 1 Axes>"
            ]
          },
          "metadata": {
            "tags": []
          }
        }
      ]
    },
    {
      "cell_type": "code",
      "metadata": {
        "colab": {
          "base_uri": "https://localhost:8080/",
          "height": 419
        },
        "id": "kWl6VI0ckL9G",
        "outputId": "9e0bd607-8063-40ac-a046-1cf2f67af60c"
      },
      "source": [
        " # Create a function to cumpute the negative, neutral and positive analysis\n",
        "\n",
        " def getAnalysis(score):\n",
        "   if score < 0:\n",
        "     return 'Negative'\n",
        "   elif score == 0:\n",
        "     return 'Neutral'\n",
        "   else:\n",
        "     return 'Positive'\n",
        "\n",
        "df['Analysis'] = df['Polarity'].apply(getAnalysis)  \n",
        "\n",
        "#show the dataframe\n",
        "df"
      ],
      "execution_count": null,
      "outputs": [
        {
          "output_type": "execute_result",
          "data": {
            "text/html": [
              "<div>\n",
              "<style scoped>\n",
              "    .dataframe tbody tr th:only-of-type {\n",
              "        vertical-align: middle;\n",
              "    }\n",
              "\n",
              "    .dataframe tbody tr th {\n",
              "        vertical-align: top;\n",
              "    }\n",
              "\n",
              "    .dataframe thead th {\n",
              "        text-align: right;\n",
              "    }\n",
              "</style>\n",
              "<table border=\"1\" class=\"dataframe\">\n",
              "  <thead>\n",
              "    <tr style=\"text-align: right;\">\n",
              "      <th></th>\n",
              "      <th>Tweets</th>\n",
              "      <th>Subjectivity</th>\n",
              "      <th>Polarity</th>\n",
              "      <th>Analysis</th>\n",
              "    </tr>\n",
              "  </thead>\n",
              "  <tbody>\n",
              "    <tr>\n",
              "      <th>0</th>\n",
              "      <td>The Nation hangs its head in shame for what Pa...</td>\n",
              "      <td>0.437500</td>\n",
              "      <td>-0.156250</td>\n",
              "      <td>Negative</td>\n",
              "    </tr>\n",
              "    <tr>\n",
              "      <th>1</th>\n",
              "      <td>If you are not an issue, handling outside issu...</td>\n",
              "      <td>0.050000</td>\n",
              "      <td>0.000000</td>\n",
              "      <td>Neutral</td>\n",
              "    </tr>\n",
              "    <tr>\n",
              "      <th>2</th>\n",
              "      <td>With precise Region-wise data of ClimateChange...</td>\n",
              "      <td>0.766667</td>\n",
              "      <td>0.300000</td>\n",
              "      <td>Positive</td>\n",
              "    </tr>\n",
              "    <tr>\n",
              "      <th>3</th>\n",
              "      <td>We must skill the Youth of the World to handle...</td>\n",
              "      <td>0.458333</td>\n",
              "      <td>0.091667</td>\n",
              "      <td>Positive</td>\n",
              "    </tr>\n",
              "    <tr>\n",
              "      <th>4</th>\n",
              "      <td>Only when your experience of life moves beyond...</td>\n",
              "      <td>0.633333</td>\n",
              "      <td>0.066667</td>\n",
              "      <td>Positive</td>\n",
              "    </tr>\n",
              "    <tr>\n",
              "      <th>...</th>\n",
              "      <td>...</td>\n",
              "      <td>...</td>\n",
              "      <td>...</td>\n",
              "      <td>...</td>\n",
              "    </tr>\n",
              "    <tr>\n",
              "      <th>95</th>\n",
              "      <td>As long as there is anger, irritation, hatred,...</td>\n",
              "      <td>0.366667</td>\n",
              "      <td>-0.183333</td>\n",
              "      <td>Negative</td>\n",
              "    </tr>\n",
              "    <tr>\n",
              "      <th>96</th>\n",
              "      <td>My Best Wishes for the Olympics, Pooja. The Na...</td>\n",
              "      <td>0.433333</td>\n",
              "      <td>0.700000</td>\n",
              "      <td>Positive</td>\n",
              "    </tr>\n",
              "    <tr>\n",
              "      <th>97</th>\n",
              "      <td>Congratulazioni Azzurri! The Beautiful Game ce...</td>\n",
              "      <td>0.566667</td>\n",
              "      <td>0.483333</td>\n",
              "      <td>Positive</td>\n",
              "    </tr>\n",
              "    <tr>\n",
              "      <th>98</th>\n",
              "      <td>DailyWisdom Life https://t.co/fRoAeiHtf3</td>\n",
              "      <td>0.000000</td>\n",
              "      <td>0.000000</td>\n",
              "      <td>Neutral</td>\n",
              "    </tr>\n",
              "    <tr>\n",
              "      <th>99</th>\n",
              "      <td>Wisdom is a combination of our own realization...</td>\n",
              "      <td>0.666667</td>\n",
              "      <td>0.366667</td>\n",
              "      <td>Positive</td>\n",
              "    </tr>\n",
              "  </tbody>\n",
              "</table>\n",
              "<p>100 rows × 4 columns</p>\n",
              "</div>"
            ],
            "text/plain": [
              "                                               Tweets  ...  Analysis\n",
              "0   The Nation hangs its head in shame for what Pa...  ...  Negative\n",
              "1   If you are not an issue, handling outside issu...  ...   Neutral\n",
              "2   With precise Region-wise data of ClimateChange...  ...  Positive\n",
              "3   We must skill the Youth of the World to handle...  ...  Positive\n",
              "4   Only when your experience of life moves beyond...  ...  Positive\n",
              "..                                                ...  ...       ...\n",
              "95  As long as there is anger, irritation, hatred,...  ...  Negative\n",
              "96  My Best Wishes for the Olympics, Pooja. The Na...  ...  Positive\n",
              "97  Congratulazioni Azzurri! The Beautiful Game ce...  ...  Positive\n",
              "98           DailyWisdom Life https://t.co/fRoAeiHtf3  ...   Neutral\n",
              "99  Wisdom is a combination of our own realization...  ...  Positive\n",
              "\n",
              "[100 rows x 4 columns]"
            ]
          },
          "metadata": {
            "tags": []
          },
          "execution_count": 63
        }
      ]
    },
    {
      "cell_type": "code",
      "metadata": {
        "colab": {
          "base_uri": "https://localhost:8080/",
          "height": 419
        },
        "id": "1jHMFMuRmCg-",
        "outputId": "83ed3c12-7101-458d-b68a-a6e2739a8471"
      },
      "source": [
        "# Print all of positive tweets\n",
        "j = 1\n",
        "sortedDF = df.sort_values(by = ['Polarity'])\n",
        "\n",
        "sortedDF\n"
      ],
      "execution_count": null,
      "outputs": [
        {
          "output_type": "execute_result",
          "data": {
            "text/html": [
              "<div>\n",
              "<style scoped>\n",
              "    .dataframe tbody tr th:only-of-type {\n",
              "        vertical-align: middle;\n",
              "    }\n",
              "\n",
              "    .dataframe tbody tr th {\n",
              "        vertical-align: top;\n",
              "    }\n",
              "\n",
              "    .dataframe thead th {\n",
              "        text-align: right;\n",
              "    }\n",
              "</style>\n",
              "<table border=\"1\" class=\"dataframe\">\n",
              "  <thead>\n",
              "    <tr style=\"text-align: right;\">\n",
              "      <th></th>\n",
              "      <th>Tweets</th>\n",
              "      <th>Subjectivity</th>\n",
              "      <th>Polarity</th>\n",
              "      <th>Analysis</th>\n",
              "    </tr>\n",
              "  </thead>\n",
              "  <tbody>\n",
              "    <tr>\n",
              "      <th>85</th>\n",
              "      <td>What happens within us is never determined by ...</td>\n",
              "      <td>1.000000</td>\n",
              "      <td>-0.500000</td>\n",
              "      <td>Negative</td>\n",
              "    </tr>\n",
              "    <tr>\n",
              "      <th>84</th>\n",
              "      <td>Painful to see the devastating impact of extre...</td>\n",
              "      <td>0.716667</td>\n",
              "      <td>-0.204167</td>\n",
              "      <td>Negative</td>\n",
              "    </tr>\n",
              "    <tr>\n",
              "      <th>95</th>\n",
              "      <td>As long as there is anger, irritation, hatred,...</td>\n",
              "      <td>0.366667</td>\n",
              "      <td>-0.183333</td>\n",
              "      <td>Negative</td>\n",
              "    </tr>\n",
              "    <tr>\n",
              "      <th>0</th>\n",
              "      <td>The Nation hangs its head in shame for what Pa...</td>\n",
              "      <td>0.437500</td>\n",
              "      <td>-0.156250</td>\n",
              "      <td>Negative</td>\n",
              "    </tr>\n",
              "    <tr>\n",
              "      <th>91</th>\n",
              "      <td>SouthAfrica, you demonstrated the Power of Non...</td>\n",
              "      <td>0.577778</td>\n",
              "      <td>-0.016667</td>\n",
              "      <td>Negative</td>\n",
              "    </tr>\n",
              "    <tr>\n",
              "      <th>...</th>\n",
              "      <td>...</td>\n",
              "      <td>...</td>\n",
              "      <td>...</td>\n",
              "      <td>...</td>\n",
              "    </tr>\n",
              "    <tr>\n",
              "      <th>71</th>\n",
              "      <td>Sindhu, Best Wishes for the Olympics. You do u...</td>\n",
              "      <td>0.650000</td>\n",
              "      <td>0.900000</td>\n",
              "      <td>Positive</td>\n",
              "    </tr>\n",
              "    <tr>\n",
              "      <th>66</th>\n",
              "      <td>Congratulations Mirabai. A proud Nation applau...</td>\n",
              "      <td>0.650000</td>\n",
              "      <td>0.900000</td>\n",
              "      <td>Positive</td>\n",
              "    </tr>\n",
              "    <tr>\n",
              "      <th>41</th>\n",
              "      <td>Kamalpreet, congratulations on an incredible d...</td>\n",
              "      <td>0.600000</td>\n",
              "      <td>0.950000</td>\n",
              "      <td>Positive</td>\n",
              "    </tr>\n",
              "    <tr>\n",
              "      <th>93</th>\n",
              "      <td>Congratulations Novak, on joining the Gallery ...</td>\n",
              "      <td>0.300000</td>\n",
              "      <td>1.000000</td>\n",
              "      <td>Positive</td>\n",
              "    </tr>\n",
              "    <tr>\n",
              "      <th>22</th>\n",
              "      <td>Rajiv, Best Wishes for the Olympics. May your ...</td>\n",
              "      <td>0.300000</td>\n",
              "      <td>1.000000</td>\n",
              "      <td>Positive</td>\n",
              "    </tr>\n",
              "  </tbody>\n",
              "</table>\n",
              "<p>100 rows × 4 columns</p>\n",
              "</div>"
            ],
            "text/plain": [
              "                                               Tweets  ...  Analysis\n",
              "85  What happens within us is never determined by ...  ...  Negative\n",
              "84  Painful to see the devastating impact of extre...  ...  Negative\n",
              "95  As long as there is anger, irritation, hatred,...  ...  Negative\n",
              "0   The Nation hangs its head in shame for what Pa...  ...  Negative\n",
              "91  SouthAfrica, you demonstrated the Power of Non...  ...  Negative\n",
              "..                                                ...  ...       ...\n",
              "71  Sindhu, Best Wishes for the Olympics. You do u...  ...  Positive\n",
              "66  Congratulations Mirabai. A proud Nation applau...  ...  Positive\n",
              "41  Kamalpreet, congratulations on an incredible d...  ...  Positive\n",
              "93  Congratulations Novak, on joining the Gallery ...  ...  Positive\n",
              "22  Rajiv, Best Wishes for the Olympics. May your ...  ...  Positive\n",
              "\n",
              "[100 rows x 4 columns]"
            ]
          },
          "metadata": {
            "tags": []
          },
          "execution_count": 64
        }
      ]
    },
    {
      "cell_type": "code",
      "metadata": {
        "colab": {
          "base_uri": "https://localhost:8080/"
        },
        "id": "Ibd0yUpqoV5T",
        "outputId": "1eaa9ee5-1310-4bae-f57f-1ce222a1a8e1"
      },
      "source": [
        "for i in range (0,sortedDF.shape[0]):\n",
        "  if sortedDF['Analysis'][i] == 'Positive':\n",
        "    print(str(j) + ')' + sortedDF['Tweets'][i])\n",
        "    print()\n",
        "    j = j+1"
      ],
      "execution_count": null,
      "outputs": [
        {
          "output_type": "stream",
          "text": [
            "1)With precise Region-wise data of ClimateChange impact, it is now possible for every Nation to legislate appropriately &amp; mitigate impact. May decision-makers show resoluteness, commitment &amp; Urgency in making this happen. –Sg _CH _SDG  ConsciousPlanet\n",
            "\n",
            "2)We must skill the Youth of the World to handle their body, mind, emotions &amp; energies. With this one skill- whatever their activity- they will enhance their own Life &amp; all Life around them. Without this skill, every other skill will be wasted. –Sg InternationalYouthDay\n",
            "\n",
            "3)Only when your experience of life moves beyond sense perception, it becomes absolute, not relative. SadhguruQuotes https://t.co/QC9f7MWBwh\n",
            "\n",
            "4)Every Nation must prioritize ClimateAction in its political agenda. Urgent policy-driven action is the only way forward to avert catastrophic consequences of ClimateChange. –Sg _CH _SDG ConsciousPlanet\n",
            "\n",
            "5)Human beings become who they are not necessarily because they are endowed with tremendous knowledge, capability, or talent. It is simply because they are devoted to what they are doing. SadhguruQuotes https://t.co/vszf1HqBFk\n",
            "\n",
            "6)This is a tremendous opportunity for Humanity to demonstrate what Human Intent combined with Capability &amp; Action can achieve. Let’s embrace the Opportunity &amp; craft a Conscious Destiny for our Planet. –Sg _CH _SDG \n",
            "ConsciousPlanet\n",
            "\n",
            "7)Humanity is running out of time. Decisive &amp; Cohesive Action is the need of the hour. We must do everything we can as a Generation to mitigate the impact of what is now clearly an imminent disaster. –Sg _CH _SDG \n",
            "ConsciousPlanet\n",
            "\n",
            "8)The word Yoga means Union- if you are willing &amp; Conscious enough, you can not only operate as an Individual Being but as a Universal Being. Exploring this possibility is the Science of Yoga. Glad to see Modern Science exploring this Dimension &amp; moving toward the same Reality. –Sg https://t.co/AUkAYA5BZL\n",
            "\n",
            "9)As a Generation, this may be our last chance to get it right. May the Policymakers of the World unite with Focus, Determination &amp; Speed to limit irreversible damage. –Sg _CH _SDG  \n",
            "ConsciousPlanet\n",
            "\n",
            "10)If two people come together, it should be a sharing of joy, not extracting joy from each other. SadhguruQuotes https://t.co/rxbtfHDndR\n",
            "\n",
            "11)IndigenousPeople have an intimacy with Life that is completely absent in modern ways of living. May every Culture in the world heed the Wisdom of its Indigenous People &amp; re-create a thriving, all-Inclusive Planet. –Sg IndigenousPeoplesDay \n",
            "ConsciousPlanet\n",
            "\n",
            "\n",
            "12)You cannot do anything more than who you are. Without enhancing who you are, what you do shall not be enhanced. SadhguruQuotes https://t.co/e7NslFKoka\n",
            "\n",
            "13)Congratulations. The Nation applauds your remarkable resolve and skill. You have brought a tinge of Gold to the Nation today. Best wishes and Blessings to you. -Sg _chopra1\n",
            "NeerajChopra\n",
            "Cheer4India Tokyo2020 https://t.co/J39twEXO0V\n",
            "\n",
            "14)An outstanding performance and a remarkable win, Bajrang. Congratulations and Blessings. -Sg  Tokyo2020 Cheer4India Olympics\n",
            "\n",
            "15)Congratulations to TNGovt on historic Agriculture Budget. TamilNadu is one of the oldest agricultural heritages &amp; is one of the earliest practitioners of OrganicFarming- is sure to bring immense economic, ecological &amp; health benefits. Best Wishes. –Sg  https://t.co/cZlOJGO5ce\n",
            "\n",
            "16)Rajiv, Best Wishes for the Olympics. May your talent for beating the odds serve you well at The Games. Blessings. –Sg  Cheer4India Tokyo2020 https://t.co/iVC1RT5VyB\n",
            "\n",
            "17)Wonderful speaking with you, Demi. To create Conscious Human Beings &amp; in turn a ConsciousPlanet, our Love for Life must extend beyond our species. This is what raising Human Consciousness means. Join us in making this happen. Blessings. –Sg  https://t.co/DFvzb0pPOo\n",
            "\n",
            "18)Birthday Greetings, Venkatesh. Your Passion for the Sport &amp; and your Commitment to the Team have set an exemplary benchmark for sport. The Nation is fortunate that you continue to contribute to the game in new &amp; inspiring ways. Best Wishes &amp; Blessings. -Sg \n",
            "\n",
            "19)IndianHockeyTeam- Spectacular performance. Medal- winning effort is sure way towards bringing back the Golden Age of Hockey. -Sg\n",
            "\n",
            "Cheer4India Tokyo2020\n",
            "Olympics https://t.co/8u52ypztUz\n",
            "\n",
            "20)It is good to have a plan, but it is more important to have a purpose. If you have a purpose, plans will evolve and manifest. SadhguruQuotes https://t.co/JQwlR9F9M8\n",
            "\n",
            "21)Lovlina, Congratulations on a stellar performance at the Olympics. The Nation is extremely proud of your representation. Your Success will open new possibilities in the hearts &amp; minds of Young India. My Best Wishes &amp; Blessings. –Sg  Cheer4India Tokyo2020 https://t.co/VhfmXhJgWz\n",
            "\n",
            "22)Ravi, Congratulations on a fantastic achievement in your Olympics debut. The Nation is proud of your remarkable Poise &amp; Focus. My Best Wishes for the Finals. Blessings. –Sg RaviKumarDahiya Cheer4India Tokyo2020 https://t.co/xODbBCCAig\n",
            "\n",
            "23)Neeraj, Congratulations on a spectacular throw! Your relentlessness in pushing the boundaries of the Possible is an inspiration to every sportsperson. My Best Wishes for the Finals. Blessings. –Sg _chopra1 Cheer4India Tokyo2020 https://t.co/ug3xOJOQHZ\n",
            "\n",
            "24)Birthday Greetings, Tom. A privilege to have witnessed your spectacular success and growth. An exceptional sportsman and a remarkable inspiration. Best wishes &amp; Blessings. -Sg \n",
            "\n",
            "25)AadiPerukku is a testament to the richness of the Tamil Culture which holds all Life-Making material in utmost Reverence. May this Reverence in our hearts transform into Action on ground to make Tamil Nadu a water-abundant state in Bharat. Blessings. –Sg CauveryCalling\n",
            "\n",
            "26)Celebration should not be limited to a particular occasion. Your whole life, your very existence should become a celebration. SadhguruQuotes https://t.co/ZOoqNppYvt\n",
            "\n",
            "27)IndianWomensHockey – a Team of true Champions. The Nation applauds your record feat. Wonderful to see you play with Pride, Heart &amp; Skill. My Best Wishes for Victory in the semi-finals. Blessings. –Sg  Cheer4India Tokyo2020 \n",
            "HockeyIndia\n",
            "IndvsAus https://t.co/jhejfuIjPl\n",
            "\n",
            "28)Sindhu, congratulations, on another wonderful performance. The Nation salutes your sportsmanship and determination. The first Indian woman to bring home two Olympic medals. -Sg  Tokyo2020 Cheer4India PVSindhu https://t.co/JCZylzxdkM\n",
            "\n",
            "29)IndianHockeyTeam, congratulations on a tremendous effort and proud victory. The Nation applauds you and looks forward to another stellar performance at the Olympics semi-finals. -Sg \n",
            "Tokyo2020 Cheer4India https://t.co/GxB6nuAJmt\n",
            "\n",
            "30)Kamalpreet, congratulations on an incredible discus throw. India is rooting for you. We look forward to seeing you at the finals. Best wishes and Blessings. -Sg KamalpreetKaur Tokyo2020 Cheer4India https://t.co/Bj7POiqlgb\n",
            "\n",
            "31)Congratulations to the IndianHockeyTeam on a thrilling Victory! The Nation looks forward to your continued success. Best Wishes &amp; Blessings. –Sg\n",
            " Cheer4India Tokyo2020  TeamIndia https://t.co/CQIX5Au5CG\n",
            "\n",
            "32)Prejudice is poison, fed to us from an early age by our families, religions, and societies. SadhguruQuotes https://t.co/JXS524OGi3\n",
            "\n",
            "33)Michael, wonderful to speak with you on this occasion. The most critical work for us is to raise Human Consciousness- so that we employ our competence, capability &amp; intelligence in a Conscious manner for the wellbeing of all Life. Join us in making this happen. –Sg  https://t.co/LvdEuCRiS0\n",
            "\n",
            "34)Sindhu, congratulations on a spectacular win. You’ve raised the bar for yourself &amp; done the Nation proud. My Best Wishes &amp; Blessings for Victory. –Sg  Cheer4India PVSindhu Tokyo2020 https://t.co/8f2FvQ0sBW\n",
            "\n",
            "35)Congratulations, Lovlina, on a wonderful achievement. A historic day for Indian Boxing! My Best Wishes for your Success in the next bout. Blessings. –Sg  Cheer4India Tokyo2020 https://t.co/cahwTInIBX\n",
            "\n",
            "36)Never think of who is doing better or worse than you. The only question is, are you doing your best. SadhguruQuotes https://t.co/7s7zBkajUr\n",
            "\n",
            "37)Pleasure is only a false image of joy. It is beautiful, but it is just a reflection. SadhguruQuotes https://t.co/dkpAo36c3p\n",
            "\n",
            "38)Human Compulsiveness has made Life antithetical to Natural Existence. So long as we don’t address this, Nature Conservation will remain a pipe dream. The only solution is to raise Human Consciousness. Let’s make it happen. Sg WorldNatureConservationDay   \n",
            "\n",
            "39)Subha, great to see your single-minded focus on being The Best at what you do. My Best Wishes for your Success at the Olympics. Blessings. –Sg \n",
            "Cheer4India Tokyo2020\n",
            "SubhaVenkatesan\n",
            "\n",
            "40)The only real solution to conserve nature is to create a Conscious Planet, that is every one of us is a Conscious existence. SadhguruQuotes WorldNatureConservationDay https://t.co/KoEQ9uCXfH\n",
            "\n",
            "41)Dhanalakshmi, Bharat is proud of your Determination &amp; Perseverance. My Best Wishes for your Success at the Olympics. Blessings. –Sg\n",
            " Cheer4India Tokyo2020\n",
            "DhanalakshmiSekhar\n",
            "\n",
            "42)Samskriti is an endeavor to create individuals who are exuberant yet equanimous. Only with this balance, a life of freedom becomes possible. It is my Wish &amp; my Blessing that ProjectSamskriti helps you to explore and experience the wonderfulness of being human. -Sg https://t.co/xpz8Fmal1S\n",
            "\n",
            "43)Revathi, a true Champion of the Spirit of Bharat. May your journey to the Olympics inspire a Revathi in every hamlet across the Nation. My Best Wishes &amp; Blessings for your Success. –Sg RevathiVeeramani Cheer4India Tokyo2020 https://t.co/ZkWZznbd4U\n",
            "\n",
            "44)On this KargilVijayDiwas, let us pledge to unite as a Nation &amp; contribute- in whatever way we can- towards building a strong &amp; prosperous Bharat. This is the greatest tribute we can pay for the Service &amp; Sacrifice of the brave soldiers of Kargil. –Sg\n",
            "\n",
            "45)Nothing is predetermined – not even death. Everything has been created by you, though mostly unconsciously. SadhguruQuotes https://t.co/mvw3i12ZV3\n",
            "\n",
            "46)Mary, your Focus &amp; Determination is a great inspiration for young women to invest themselves in what they value. My Best Wishes for your Success at The Games. Blessings. –Sg  Cheer4India Tokyo2020\n",
            "\n",
            "47)If you really want your child to blossom, you need to first transform yourself into a loving, joyful, and peaceful being. SadhguruQuotes https://t.co/gbCNxOC12Z\n",
            "\n",
            "48)Congratulations to the IndianHockeyTeam on a sterling performance &amp; inaugural win. Best Wishes for continued Success. Blessings.  –Sg  Cheer4India Tokyo2020 https://t.co/FPQwxJHRxK\n",
            "\n",
            "49)Congratulations Mirabai. A proud Nation applauds your medal-winning effort. Best Wishes &amp; Blessings. –Sg _chanu Cheer4India Tokyo2020\n",
            "\n",
            "50)Bhavani, a proud moment for us that a young woman is the debutant Indian Fencer at the Olympics. May you inspire many more young women to take up the Sport. Best Wishes for your Success. Blessings. –Sg  Cheer4India Tokyo2020\n",
            "\n",
            "51)Celebrate Guru Purnima | Be in Sadhguru's Presence | 23 July 2021 | Join Live At 7 PM IST\n",
            "\n",
            "https://t.co/TK10fVRpsy\n",
            "\n",
            "52)Sindhu, Best Wishes for the Olympics. You do us proud every time you don the Indian jersey. May it be so again. Blessings. –Sg  Cheer4India Tokyo2020\n",
            "\n",
            "53)Strive to become an absolutely full-fledged Life. The best thing you can do for your Guru is what is ultimately best for yourself. In raising yourself beyond your limitations is how you serve your Guru. My special Blessings to all of you on this GuruPurnima. -Sg https://t.co/Ss9jlP0djM\n",
            "\n",
            "54)My Best Wishes to the Indian Sailing Team at the Olympics - Varun, Ganapathy, Vishnu &amp; Nethra, you have done the Nation proud with your record debut. Wish you every Success at The Games. Blessings. -Sg   Cheer4India Tokyo2020\n",
            "\n",
            "55)GuruPurnima celebrates the human ability to rise beyond physical nature, and the Greatness of Adiyogi, who made this possible. Most auspicious to receive grace. SadhguruQuotes https://t.co/EWlAvPE7R2\n",
            "\n",
            "56)Sharath, your Passion &amp; Perseverance has brought many laurels to the Nation. May you find Success at the Olympics. Best Wishes &amp; Blessings. –Sg  Cheer4India Tokyo2020\n",
            "\n",
            "57)Sathiyan, wonderful that you always put your best foot forward for the Nation. Best Wishes for your Success at the Olympics. Blessings. –Sg  Cheer4India Tokyo2020\n",
            " SathiyanGnanasekaran\n",
            "\n",
            "58)Love should always be a liberating process, not an entangling one. SadhguruQuotes https://t.co/GCvvisw4xV\n",
            "\n",
            "59)Elavenil, heart-warming to know that you have been winning laurels for the country since the age of 12! The Nation is proud of your Poise &amp; Balance. My Best Wishes for your Success at the Olympics. Blessings. –Sg  Cheer4India Tokyo2020\n",
            "\n",
            "60)You cannot really separate physical and mental health because health happens as a whole. SadhguruQuotes https://t.co/QlgtXB2oOW\n",
            "\n",
            "61)If you are creating what you really care for, your whole life is a Holiday. SadhguruQuotes https://t.co/vqwR8x4yIv\n",
            "\n",
            "62)In the marketplace, it is considered smart to give less and take more. In a genuine relationship, you give whatever you can without caring what you get back. SadhguruQuotes https://t.co/MjNmJUSlWS\n",
            "\n",
            "63)Nelson Mandela- one of Humanity’s most outstanding examples of Resolve &amp; Graciousness. Celebrated for his fearless conviction &amp; for never allowing his circumstances to diminish who he chose to be. –Sg NelsonMandelaDay https://t.co/QPY17YxYVw\n",
            "\n",
            "64)Moving from compulsiveness to consciousness is the only way out for a human being and Humanity as a whole. SadhguruQuotes https://t.co/evLQojsXE3\n",
            "\n",
            "65)Serpents\n",
            "Most maligned creatures in all of divine creation.\n",
            "These gentle, colorful beings to me have not only\n",
            "been dear but defining. -Sg\n",
            "WorldSnakeDay https://t.co/XXtsBM3x79\n",
            "\n",
            "66)A smile is not an act. If you are feeling fulfilled and at ease with yourself, you will naturally smile. SadhguruQuotes https://t.co/ycQODgP0pU\n",
            "\n",
            "67)Birthday Greetings, Yahya. May you strive Joyfully for whatever you value the most. Best Wishes &amp; Blessings. –Sg \n",
            "\n",
            "68)Congratulations Novak, on joining the Gallery of Greats &amp; walking into millions of hearts. Best Wishes. –Sg  Wimbledon2021 https://t.co/vXcdv8ok07\n",
            "\n",
            "69)IshaCovidAction, Karnataka, completes 75 days of on-ground support to frontline workers &amp; vulnerable populations in the state. As the Virus loosens its grip, let us take a moment to acknowledge with Gratitude all those who made it possible for us to stay safe &amp; healthy. –Sg https://t.co/rvNHs1zWPV\n",
            "\n",
            "70)My Best Wishes for the Olympics, Pooja. The Nation is proud of your Passion, Perseverance &amp; Success. May you once again taste the sweetness of Victory.  Blessings. –Sg  Cheer4India Tokyo2020\n",
            "\n",
            "71)Congratulazioni Azzurri! The Beautiful Game celebrates. Best Wishes. –Sg Euro2020 https://t.co/VAKhqx1cOT\n",
            "\n",
            "72)Wisdom is a combination of our own realizations and relevant practical action. SadhguruQuotes https://t.co/PQRil2SBZ2\n",
            "\n"
          ],
          "name": "stdout"
        }
      ]
    },
    {
      "cell_type": "code",
      "metadata": {
        "colab": {
          "base_uri": "https://localhost:8080/"
        },
        "id": "RGGrbCa6pJRs",
        "outputId": "2cfd94db-1895-4d1a-e40f-0eaba94f54cf"
      },
      "source": [
        "# Print the negative Tweets\n",
        "j = 1\n",
        "SortedDF = df.sort_values(by= ['Polarity'],ascending='False') \n",
        "for i in range(0, SortedDF.shape[0]):\n",
        "  if sortedDF['Analysis'][i] == 'Negative':\n",
        "    print(str(j) + ')' + sortedDF['Tweets'][i])\n",
        "    print()\n",
        "    j = j+1\n",
        "\n"
      ],
      "execution_count": null,
      "outputs": [
        {
          "output_type": "stream",
          "text": [
            "1)The Nation hangs its head in shame for what Parliament has descended to. Our hard-won Independence means little without Responsibility. Bharat’s wellbeing must override all other considerations. –Sg\n",
            "\n",
            "2)Painful to see the devastating impact of extreme weather in western Europe with the unprecedented loss of life &amp; destructio n of property. May the World unite in preventing such climatic upheavals by investing in regenerating the planet. – Sg https://t.co/x5iCRVWWAo\n",
            "\n",
            "3)What happens within us is never determined by what is happening around us. But unfortunately, we link it to what is happening around us. SadhguruQuotes https://t.co/B6LrCGmyk0\n",
            "\n",
            "4)SouthAfrica, you demonstrated the Power of Non-Violence to the world at the most difficult time in your history. Painful to see you bleed today. May you Unite &amp; and build back the Strong, Vibrant Nation that we all know &amp; admire. Blessings. – Sg https://t.co/tFUF6f29rO\n",
            "\n",
            "5)As long as there is anger, irritation, hatred, jealousy, and intolerance in you, you are like a bomb, ready to explode anytime. SadhguruQuotes https://t.co/HTocsXyEul\n",
            "\n"
          ],
          "name": "stdout"
        }
      ]
    },
    {
      "cell_type": "code",
      "metadata": {
        "colab": {
          "base_uri": "https://localhost:8080/",
          "height": 441
        },
        "id": "8rhq4qvpEJQk",
        "outputId": "374962fe-fe9e-4d91-b951-72b64e432731"
      },
      "source": [
        "# PLot the polarity and Subjectivity\n",
        "\n",
        "plt.figure(figsize = (8,6))\n",
        "for i in range(0,df.shape[0]):\n",
        "  plt.scatter(df['Polarity'][i],df['Subjectivity'][i],color = 'Blue')\n",
        "\n",
        "plt.title('Sentiment Analysis')\n",
        "plt.xlabel('Polarity')\n",
        "plt.ylabel('Subjevtivity')\n",
        "plt.show()"
      ],
      "execution_count": null,
      "outputs": [
        {
          "output_type": "display_data",
          "data": {
            "image/png": "[encoded data removed]",
            "text/plain": [
              "<Figure size 576x432 with 1 Axes>"
            ]
          },
          "metadata": {
            "tags": []
          }
        }
      ]
    },
    {
      "cell_type": "code",
      "metadata": {
        "colab": {
          "base_uri": "https://localhost:8080/"
        },
        "id": "RfVdtYS_FKMu",
        "outputId": "6114b405-2884-4af3-ed33-59a10f96f3f0"
      },
      "source": [
        "# Get the percentage of Positive tweets\n",
        "\n",
        "ptweets = df[df.Analysis == 'Positive']\n",
        "ptweets = ptweets['Tweets']\n",
        "\n",
        "ptweets\n",
        "\n",
        "round((ptweets.shape[0]/df.shape[0])*100, 1 )"
      ],
      "execution_count": null,
      "outputs": [
        {
          "output_type": "execute_result",
          "data": {
            "text/plain": [
              "72.0"
            ]
          },
          "metadata": {
            "tags": []
          },
          "execution_count": 72
        }
      ]
    },
    {
      "cell_type": "code",
      "metadata": {
        "colab": {
          "base_uri": "https://localhost:8080/"
        },
        "id": "r6J3n5HmFlvz",
        "outputId": "8d337635-2dff-441b-ba55-ab31472e2e17"
      },
      "source": [
        "# Get the percentage of Negative tweets\n",
        "\n",
        "ntweets = df[df.Analysis == 'Negative']\n",
        "ntweets = ntweets['Tweets']\n",
        "\n",
        "ntweets\n",
        "\n",
        "round((ntweets.shape[0]/df.shape[0])*100, 1 )"
      ],
      "execution_count": null,
      "outputs": [
        {
          "output_type": "execute_result",
          "data": {
            "text/plain": [
              "5.0"
            ]
          },
          "metadata": {
            "tags": []
          },
          "execution_count": 73
        }
      ]
    },
    {
      "cell_type": "code",
      "metadata": {
        "colab": {
          "base_uri": "https://localhost:8080/",
          "height": 374
        },
        "id": "_v03YCqLFnsr",
        "outputId": "a58e6f8a-588d-4996-bb4b-6b4dccbf05da"
      },
      "source": [
        "# Show the Value Counts\n",
        "\n",
        "df['Analysis'].value_counts()\n",
        "\n",
        "\n",
        "# Plot and visualise the counts\n",
        "plt.title('Sentimnet Analysis')\n",
        "plt.xlabel('Sentiment')\n",
        "plt.ylabel('Counts')\n",
        "df['Analysis'].value_counts().plot(kind = 'bar')\n",
        "plt.show()"
      ],
      "execution_count": null,
      "outputs": [
        {
          "output_type": "display_data",
          "data": {
            "image/png": "[encoded data removed]",
            "text/plain": [
              "<Figure size 432x288 with 1 Axes>"
            ]
          },
          "metadata": {
            "tags": []
          }
        }
      ]
    },
    {
      "cell_type": "code",
      "metadata": {
        "id": "QQ7HaO0wHB04"
      },
      "source": [
        "# reference https://www.youtube.com/watch?v=ujId4ipkBio&t=498s\n",
        "\n"
      ],
      "execution_count": null,
      "outputs": []
    }
  ]
}